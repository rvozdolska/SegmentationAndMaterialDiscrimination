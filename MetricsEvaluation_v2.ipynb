{
 "cells": [
  {
   "cell_type": "code",
   "execution_count": 40,
   "metadata": {},
   "outputs": [],
   "source": [
    "%matplotlib inline\n",
    "import tensorflow as tf\n",
    "import numpy as np\n",
    "#from plotly.graph_objs import Scatter, Layout \n",
    "import pandas as pd\n",
    "from PIL import Image\n",
    "from matplotlib import pyplot as plt\n",
    "from scipy.spatial.distance import directed_hausdorff\n",
    "import sklearn.metrics\n",
    "import scipy"
   ]
  },
  {
   "cell_type": "code",
   "execution_count": 140,
   "metadata": {},
   "outputs": [],
   "source": [
    "#https://github.com/martinkersner/py_img_seg_eval/blob/master/eval_segm.py\n",
    "#https://github.com/MaxwellRebo/ittk/blob/master/ittk/main.py\n",
    "def variation_of_information(X, Y):\n",
    "    n = float(sum([len(x) for x in X]))\n",
    "    sigma = 0.0\n",
    "    for x in X:\n",
    "        p = len(x) / n\n",
    "    for y in Y:\n",
    "        q = len(y) / n\n",
    "        r = len(set(x) & set(y)) / n\n",
    "        if r > 0.0:\n",
    "            sigma += r * (np.math.log(r / p, 2) + np.math.log(r / q, 2))\n",
    "    return abs(sigma)\n",
    "\n",
    "def information_variation(x, y):\n",
    "    \"\"\"\n",
    "    :param x:\n",
    "     List or numpy array\n",
    "    :param y:\n",
    "     List or numpy array\n",
    "    :return:\n",
    "     Float: the information variation of x and y\n",
    "    \"\"\"\n",
    "    x = check_numpy_array(x)\n",
    "    y = check_numpy_array(y)\n",
    "    return entropy(x) + entropy(y) - (2 * mutual_information(x, y))\n",
    "\n",
    "def check_prob_sum(arr):\n",
    "    return int(sum(arr)) == 1\n",
    "\n",
    "\n",
    "def entropy(x):\n",
    "    x = probs(x)\n",
    "    total = 0\n",
    "    for x_i in x:\n",
    "        if x_i == 0:\n",
    "            continue\n",
    "        total -= x_i * np.log2(x_i)\n",
    "    return total\n",
    "\n",
    "\n",
    "def mutual_information(x, y, normalized=False, base=2):\n",
    "    \"\"\"\n",
    "    Compute the mutual information between two sets of observations.\n",
    "    First converts observations to discrete conditional probability distribution, then computes their MI.\n",
    "    :param x:\n",
    "     List or numpy array.\n",
    "    :param y:\n",
    "     List or numpy array.\n",
    "    :param normalized:\n",
    "     Normalize the inputs. Defaults to False.\n",
    "    :param base:\n",
    "     The log base used in the MI calculation. Defaults to 2.\n",
    "    :return:\n",
    "     Float: the mutual information between x and y.\n",
    "    \"\"\"\n",
    "    x = check_numpy_array(x)\n",
    "    y = check_numpy_array(y)\n",
    "    numobs = len(x)\n",
    "    if numobs != len(y):\n",
    "        raise Exception(\"Inputs not of matching length\")\n",
    "    mutual_info = 0.0\n",
    "    uniq_x = set(x)\n",
    "    uniq_y = set(y)\n",
    "    for _x in uniq_x:\n",
    "        for _y in uniq_y:\n",
    "            px = np.shape(np.where(x == _x))[1] / numobs\n",
    "            py = np.shape(np.where(y == _y))[1] / numobs\n",
    "            pxy = len(np.where(np.in1d(np.where(x == _x)[0],\n",
    "                                 np.where(y == _y)[0]) == True)[0]) / numobs\n",
    "            if pxy > 0.0:\n",
    "                mutual_info += pxy * math.log((pxy / (px * py)), base)\n",
    "    if normalized: mutual_info = mutual_info / np.log2(numobs)\n",
    "    return mutual_info\n",
    "\n",
    "\n",
    "def intersection_over_union(image1,image2):\n",
    "    intersection = np.sum(np.logical_and(image1,image2))\n",
    "    union = np.sum(np.logical_or(image1,image2))\n",
    "    return float(intersection)/(union + 0.1)\n",
    "\n",
    "def pixel_accuracy(eval_segm, gt_segm):\n",
    "    '''\n",
    "    sum_i(n_ii) / sum_i(t_i)\n",
    "    '''\n",
    "    check_size(eval_segm, gt_segm)\n",
    "    cl, n_cl = extract_classes(gt_segm)\n",
    "    eval_mask, gt_mask = extract_both_masks(eval_segm, gt_segm, cl, n_cl)\n",
    "    sum_n_ii = 0\n",
    "    sum_t_i  = 0\n",
    "    for i, c in enumerate(cl):\n",
    "        curr_eval_mask = eval_mask[i, :, :]\n",
    "        curr_gt_mask = gt_mask[i, :, :]\n",
    "        sum_n_ii += np.sum(np.logical_and(curr_eval_mask, curr_gt_mask))\n",
    "        sum_t_i  += np.sum(curr_gt_mask)\n",
    "    if (sum_t_i == 0):\n",
    "        pixel_accuracy_ = 0\n",
    "    else:\n",
    "        pixel_accuracy_ = sum_n_ii / sum_t_i\n",
    "    return pixel_accuracy_\n",
    "\n",
    "def segm_size(segm):\n",
    "    try:\n",
    "        height = segm.shape[0]\n",
    "        width  = segm.shape[1]\n",
    "    except IndexError:\n",
    "        raise\n",
    "    return height, width\n",
    "\n",
    "\n",
    "def extract_both_masks(eval_segm, gt_segm, cl, n_cl):\n",
    "    eval_mask = extract_masks(eval_segm, cl, n_cl)\n",
    "    gt_mask   = extract_masks(gt_segm, cl, n_cl)\n",
    "\n",
    "    return eval_mask, gt_mask\n",
    "\n",
    "def extract_classes(segm):\n",
    "    cl = np.unique(segm)\n",
    "    n_cl = len(cl)\n",
    "    return cl, n_cl\n",
    "\n",
    "def extract_masks(segm, cl, n_cl):\n",
    "    h, w  = segm_size(segm)\n",
    "    masks = np.zeros((n_cl, h, w))\n",
    "    for i, c in enumerate(cl):\n",
    "        masks[i, :, :] = segm == c\n",
    "    return masks\n",
    "\n",
    "def check_size(eval_segm, gt_segm):\n",
    "    h_e, w_e = segm_size(eval_segm)\n",
    "    h_g, w_g = segm_size(gt_segm)\n",
    "    if (h_e != h_g) or (w_e != w_g):\n",
    "        raise EvalSegErr(\"DiffDim: Different dimensions of matrices!\")\n",
    "\n",
    "def dice(image1,image2):\n",
    "    intersection = np.sum(np.logical_and(image1,image2))\n",
    "    union = np.sum(np.logical_or(image1,image2))\n",
    "    jac = float(intersection)/union\n",
    "    return 2*jac/(1+jac)\n",
    "\n",
    "def recall(image1,image2):\n",
    "    m = sklearn.metrics.confusion_matrix(image1.reshape(900,1),image2.reshape(900,1))\n",
    "    tp = 0\n",
    "    for i in range(m.shape[0]):\n",
    "        tp = tp+ m[i,i]\n",
    "    fn = np.sum(np.triu(m, k=1))\n",
    "    fp = np.sum(np.tril(m, k=-1))\n",
    "    return float(tp)/float(tp+fn)\n",
    "\n",
    "def precision(image1,image2):\n",
    "    m = sklearn.metrics.confusion_matrix(image1.reshape(900,1),image2.reshape(900,1))\n",
    "    tp = 0\n",
    "    for i in range(m.shape[0]):\n",
    "        tp = tp+ m[i,i]\n",
    "    fn = np.sum(np.triu(m, k=1))\n",
    "    fp = np.sum(np.tril(m, k=-1))\n",
    "    return float(tp)/float(tp+fp)\n",
    "\n",
    "def volumetric_similarity(image1,image2):\n",
    "    m = sklearn.metrics.confusion_matrix(image1.reshape(900,1),image2.reshape(900,1))\n",
    "    tp = 0\n",
    "    for i in range(m.shape[0]):\n",
    "        tp = tp+ m[i,i]\n",
    "    fn = np.sum(np.triu(m, k=1))\n",
    "    fp = np.sum(np.tril(m, k=-1))\n",
    "    return 1 - float(fn - fp)/(2*tp + fp + fn)\n",
    "\n",
    "def relative_volume_distance(image1,image2):\n",
    "    m = sklearn.metrics.confusion_matrix(image1.reshape(900,1),image2.reshape(900,1))\n",
    "    tp = 0\n",
    "    for i in range(m.shape[0]):\n",
    "        tp = tp+ m[i,i]\n",
    "    fn = np.sum(np.triu(m, k=1))\n",
    "    fp = np.sum(np.tril(m, k=-1))\n",
    "    return 1 - float(fn - fp)/(2*tp + fp + fn)\n",
    "\n",
    "def volume_ratio(image1,image2):\n",
    "    return float(np.sum(image1))/np.sum(image2)\n",
    "\n",
    "\n",
    "def mean_intersection_over_union(image1,image2,labels):\n",
    "    '''\n",
    "    example labels in the image labels = [0,1,2]\n",
    "    exclude background when passing\n",
    "    '''\n",
    "    #labels = np.unique(image2)\n",
    "    ious = []\n",
    "    for label in labels:\n",
    "        binary_image1 = image1 == label\n",
    "        binary_image2 = image2 == label\n",
    "        iou = intersection_over_union(binary_image1,binary_image2)\n",
    "        ious.append(iou)\n",
    "    return np.sum(ious)/(len(ious)+0.1)\n",
    "\n",
    "def object_level_consistency_v1(truth,clustering):\n",
    "    '''\n",
    "    coded following polak, zhang and pi, 2009\n",
    "    M is labels in truth j index per paper\n",
    "    N is labels in clustering i index per paper\n",
    "    '''\n",
    "    labels = np.unique(truth)\n",
    "    labelsC = np.unique(clustering)\n",
    "    ious = []\n",
    "    wijd = []\n",
    "    iouI = []\n",
    "    for j in labels:\n",
    "        iouI = []\n",
    "        binary_image1 = truth == j\n",
    "        for i in labelsC:\n",
    "            binary_image3 = clustering==i\n",
    "            iou1 = intersection_over_union(binary_image1,binary_image3)\n",
    "            wijd = []\n",
    "            for k in labelsC:\n",
    "                binary_image4 = clustering==k\n",
    "                wijd1 = 1.0*(np.sum(np.logical_and(binary_image1,binary_image4)))*len(binary_image4)\n",
    "                wijd.append(wijd1)\n",
    "            wij = 1.0*(np.sum(np.logical_and(binary_image1,binary_image3))*len(binary_image3))/sum(wijd)    \n",
    "            iouI.append(iou1*wij)\n",
    "        iou= float(np.sum(iouI))     \n",
    "        wj = 1.0*len(binary_image1)/len(truth)\n",
    "        OCE = (1.0-iou)*wj\n",
    "        ious.append(OCE)\n",
    "    number_of_classes = max(1.0*len(labels)/len(labelsC), 1.0*len(labelsC)/len(labels))\n",
    "    # oversegm penalty\n",
    "    return (np.sum(ious))*number_of_classes/len(labels)\n",
    "\n",
    "def object_level_consistency(truth,clustering):\n",
    "    '''\n",
    "    coded following polak, zhang and pi, 2009\n",
    "    M is labels in truth j index per paper\n",
    "    N is labels in clustering i index per paper\n",
    "    it does not correct for missed objects\n",
    "    '''\n",
    "    labels = np.unique(truth)\n",
    "    labelsC = np.unique(clustering)\n",
    "    wijdT = []\n",
    "    iouIT = []\n",
    "    iousT = []\n",
    "    for j in labels:\n",
    "        iouIT = []\n",
    "        binary_image1 = truth == j\n",
    "        for i in labelsC:\n",
    "            binary_image3 = clustering==i\n",
    "            iou1 = intersection_over_union(binary_image1,binary_image3)\n",
    "            wijd = []\n",
    "            for k in labelsC:\n",
    "                binary_image4 = clustering==k\n",
    "                wijd1 = 1.0*(np.sum(np.logical_and(binary_image1,binary_image4)))*len(binary_image4)\n",
    "                wijd.append(wijd1)\n",
    "            wij = 1.0*(np.sum(np.logical_and(binary_image1,binary_image3))*len(binary_image3))/(sum(wijd)+0.1)    \n",
    "            iouIT.append(iou1*wij)\n",
    "        iou= float(np.sum(iouIT))     \n",
    "        wj = 1.0*len(binary_image1)/len(truth)\n",
    "        OCE = (1.0-iou)*wj\n",
    "        iousT.append(OCE)\n",
    "        wijdT = []\n",
    "    iouIC = []\n",
    "    iousC = []\n",
    "    for j in labelsC:\n",
    "        iouIC = []\n",
    "        binary_image1 = truth == j\n",
    "        for i in labels:\n",
    "            binary_image3 = clustering==i\n",
    "            iou1 = intersection_over_union(binary_image1,binary_image3)\n",
    "            wijd = []\n",
    "            for k in labels:\n",
    "                binary_image4 = clustering==k\n",
    "                wijd1 = 1.0*(np.sum(np.logical_and(binary_image1,binary_image4)))*len(binary_image4)\n",
    "                wijd.append(wijd1)\n",
    "            wij = 1.0*(np.sum(np.logical_and(binary_image1,binary_image3))*len(binary_image3))/(sum(wijd)+0.1)    \n",
    "            iouIC.append(iou1*wij)\n",
    "        iou= float(np.sum(iouIC))     \n",
    "        wj = 1.0*len(binary_image1)/len(truth)\n",
    "        OCE = (1.0-iou)*wj\n",
    "        iousC.append(OCE)\n",
    "\n",
    "    number_of_classes = min(1.0*len(labels)/len(labelsC), 1.0*len(labelsC)/len(labels))\n",
    "    # oversegm penalty\n",
    "    if (len(labelsC)>len(labels)):\n",
    "        oversegm = 1.0*len(labelsC)/len(labels)\n",
    "        undersegm = 1.0\n",
    "    else:\n",
    "        undersegm = 1.0*len(labels)/len(labelsC)\n",
    "        oversegm = 1.0\n",
    "    return round(max(np.mean(iousC),np.mean(iousT)),3)\n",
    "\n",
    "\n",
    "\n",
    "import numpy as np\n",
    "from scipy.misc import comb\n",
    "\n",
    "def rand_index(clusters, classes):\n",
    "    '''\n",
    "    Probabilistic RI - Average the result accross all human segmentations of a given image - we do not have more than 1\n",
    "    '''\n",
    "    tp_plus_fp = comb(np.bincount(clusters), 2).sum()\n",
    "    tp_plus_fn = comb(np.bincount(classes), 2).sum()\n",
    "    A = np.c_[(clusters, classes)]\n",
    "    tp = sum(comb(np.bincount(A[A[:, 0] == i, 1]), 2).sum()\n",
    "             for i in set(clusters))\n",
    "    fp = tp_plus_fp - tp\n",
    "    fn = tp_plus_fn - tp\n",
    "    tn = comb(len(A), 2) - tp - fp - fn\n",
    "    RI =  (tp + tn) / (tp + fp + fn + tn)\n",
    "    return RI\n",
    "\n",
    "def print_function(ground_truth, case, labels =[1,2,4] ):\n",
    "    print(\"MIoU  \"+ str(round(mean_intersection_over_union(ground_truth,case,labels),2))\n",
    "    ,\"Dice  \"+ str(dice(ground_truth,case)) \n",
    "    ,\"Recall  \"+ str(recall(ground_truth,case))\n",
    "    ,\"Precision  \"+ str(precision(ground_truth,case))\n",
    "    ,\"OCE  \" + str(object_level_consistency(ground_truth, case))\n",
    "    ,\"pixel_accuracy  \" + str(pixel_accuracy(ground_truth, case))\n",
    "    ,\"volumetric_similarity  \" + str(volumetric_similarity(ground_truth, case))   \n",
    "    ,\"AdjRand \" + str(round(sklearn.metrics.adjusted_rand_score(ground_truth.reshape(30*30), case.reshape(30*30)),2))      \n",
    "    ,\"Mut Info \" + str(round(sklearn.metrics.adjusted_mutual_info_score(ground_truth.reshape(30*30), case.reshape(30*30)),2))\n",
    "    ,\"VI  \" +  str(round(information_variation(ground_truth.reshape(900), case.reshape(900)),2))\n",
    "    ,\"InterClassCor \" + str(round(scipy.stats.pearsonr(ground_truth.reshape(900), case.reshape(900))[0],2))\n",
    "    ,\"Wasserstein \" + str(round(scipy.stats.wasserstein_distance(ground_truth.reshape(30*30), case.reshape(30*30)),2))      \n",
    "    ,\"HausD  \" + str(round(directed_hausdorff(ground_truth, case)[0],2))     \n",
    "         )"
   ]
  },
  {
   "cell_type": "code",
   "execution_count": 128,
   "metadata": {},
   "outputs": [],
   "source": [
    "### generate ground truth\n",
    "ground_truth = np.zeros((30,30), dtype=int)\n",
    "box1 = np.array([1]*5*5).reshape(5,5)\n",
    "box2 = np.array([2]*5*5).reshape(5,5)\n",
    "box3 = np.array([4]*5*5).reshape(5,5)\n",
    "#coordinates\n",
    "#x, y = np.random.randint(0,30-5, size=2)\n",
    "x = 1\n",
    "y = 10\n",
    "#Replace original image with white box\n",
    "ground_truth[x:x+5, y:y+5] = box1\n",
    "ground_truth[x+5:x+10, y+5:y+10] = box1\n",
    "ground_truth[x+15:x+20, y+15:y+20] = box2\n",
    "ground_truth[x+24:x+29, y:y+5] = box3"
   ]
  },
  {
   "cell_type": "code",
   "execution_count": 141,
   "metadata": {},
   "outputs": [
    {
     "name": "stdout",
     "output_type": "stream",
     "text": [
      "('MIoU  0.96', 'Dice  1.0', 'Recall  1.0', 'Precision  1.0', 'OCE  0.003', 'pixel_accuracy  1.0', 'volumetric_similarity  1.0', 'AdjRand 1.0', 'Mut Info 1.0', 'VI  1.34', 'InterClassCor 1.0', 'Wasserstein 0.0', 'HausD  0.0')\n"
     ]
    },
    {
     "data": {
      "image/png": "[encoded data removed]",
      "text/plain": [
       "<matplotlib.figure.Figure at 0x7f04bfa4c950>"
      ]
     },
     "metadata": {},
     "output_type": "display_data"
    }
   ],
   "source": [
    "plt.imshow(ground_truth, cmap='Accent');\n",
    "print_function(ground_truth,ground_truth)"
   ]
  },
  {
   "cell_type": "code",
   "execution_count": 142,
   "metadata": {},
   "outputs": [
    {
     "name": "stdout",
     "output_type": "stream",
     "text": [
      "('MIoU  0.16', 'Dice  1.0', 'Recall  1.0', 'Precision  0.944444444444', 'OCE  0.5', 'pixel_accuracy  0.9444444444444444', 'volumetric_similarity  1.02857142857', 'AdjRand 0.98', 'Mut Info 0.75', 'VI  1.17', 'InterClassCor 0.84', 'Wasserstein 0.11', 'HausD  6.71')\n"
     ]
    },
    {
     "data": {
      "image/png": "[encoded data removed]",
      "text/plain": [
       "<matplotlib.figure.Figure at 0x7f04bfbbcdd0>"
      ]
     },
     "metadata": {},
     "output_type": "display_data"
    }
   ],
   "source": [
    "### generate case1 under segmentation\n",
    "case1 = np.zeros((30,30), dtype=int)\n",
    "box1 = np.array([1]*5*5).reshape(5,5)\n",
    "box2 = np.array([2]*5*5).reshape(5,5)\n",
    "box3 = np.array([4]*5*5).reshape(5,5)\n",
    "#coordinates\n",
    "#x, y = np.random.randint(0,30-5, size=2)\n",
    "x = 1\n",
    "y = 10\n",
    "#Replace original image with white box\n",
    "case1[x:x+5, y:y+5] = box1\n",
    "case1[x+5:x+10, y+5:y+10] = box1\n",
    "case1[x+15:x+20, y+15:y+20] = box1\n",
    "case1[x+24:x+29, y:y+5] = box1\n",
    "plt.imshow(case1, cmap='Accent');\n",
    "print_function(ground_truth,case1)"
   ]
  },
  {
   "cell_type": "code",
   "execution_count": 143,
   "metadata": {},
   "outputs": [
    {
     "name": "stdout",
     "output_type": "stream",
     "text": [
      "('MIoU  0.09', 'Dice  0.3', 'Recall  0.906024096386', 'Precision  0.914841849148', 'OCE  0.754', 'pixel_accuracy  0.8355555555555556', 'volumetric_similarity  0.995157384988', 'AdjRand 0.19', 'Mut Info 0.12', 'VI  1.34', 'InterClassCor 0.02', 'Wasserstein 0.0', 'HausD  7.81')\n"
     ]
    },
    {
     "data": {
      "image/png": "[encoded data removed]",
      "text/plain": [
       "<matplotlib.figure.Figure at 0x7f04bf8d7550>"
      ]
     },
     "metadata": {},
     "output_type": "display_data"
    }
   ],
   "source": [
    "### case2 - categories correct spatially air as object\n",
    "case2 = np.zeros((30,30), dtype=int)\n",
    "box1 = np.array([1]*5*5).reshape(5,5)\n",
    "box2 = np.array([2]*5*5).reshape(5,5)\n",
    "box3 = np.array([4]*5*5).reshape(5,5)\n",
    "#coordinates\n",
    "#x, y = np.random.randint(0,30-5, size=2)\n",
    "x = 1\n",
    "y = 10\n",
    "#Replace original image with white box\n",
    "case2[x+2:x+7, y+2:y+7] = box1\n",
    "case2[x+7:x+12, y+7:y+12] = box1\n",
    "case2[x+17:x+22, y+10:y+15] = box2\n",
    "case2[x+1:x+6, y-3:y+2] = box3\n",
    "plt.imshow(case2, cmap='Accent');\n",
    "print_function(ground_truth,case2)"
   ]
  },
  {
   "cell_type": "code",
   "execution_count": 144,
   "metadata": {},
   "outputs": [
    {
     "name": "stdout",
     "output_type": "stream",
     "text": [
      "('MIoU  0.8', 'Dice  0.857142857143', 'Recall  1.0', 'Precision  0.972222222222', 'OCE  0.194', 'pixel_accuracy  0.9722222222222222', 'volumetric_similarity  1.01408450704', 'AdjRand 0.83', 'Mut Info 0.73', 'VI  1.22', 'InterClassCor 0.98', 'Wasserstein 0.03', 'HausD  2.24')\n"
     ]
    },
    {
     "data": {
      "image/png": "[encoded data removed]",
      "text/plain": [
       "<matplotlib.figure.Figure at 0x7f04bfc60810>"
      ]
     },
     "metadata": {},
     "output_type": "display_data"
    }
   ],
   "source": [
    "### case3 - less categories spacially correct missed objects\n",
    "case3 = np.zeros((30,30), dtype=int)\n",
    "box1 = np.array([1]*5*5).reshape(5,5)\n",
    "box2 = np.array([2]*5*5).reshape(5,5)\n",
    "box3 = np.array([4]*5*5).reshape(5,5)\n",
    "#coordinates\n",
    "#x, y = np.random.randint(0,30-5, size=2)\n",
    "x = 1\n",
    "y = 10\n",
    "#Replace original image with white box\n",
    "case3[x:x+5, y:y+5] = box1\n",
    "#case3[x+5:x+10, y+5:y+10] = box1\n",
    "case3[x+15:x+20, y+15:y+20] = box2\n",
    "case3[x+24:x+29, y:y+5] = box3\n",
    "plt.imshow(case3, cmap='Accent');\n",
    "print_function(ground_truth,case3)"
   ]
  },
  {
   "cell_type": "code",
   "execution_count": 145,
   "metadata": {},
   "outputs": [
    {
     "name": "stdout",
     "output_type": "stream",
     "text": [
      "('MIoU  0.5', 'Dice  0.689655172414', 'Recall  0.9', 'Precision  1.0', 'OCE  0.412', 'pixel_accuracy  0.9', 'volumetric_similarity  0.947368421053', 'AdjRand 0.59', 'Mut Info 0.43', 'VI  1.73', 'InterClassCor 0.69', 'Wasserstein 0.21', 'HausD  5.66')\n"
     ]
    },
    {
     "data": {
      "image/png": "[encoded data removed]",
      "text/plain": [
       "<matplotlib.figure.Figure at 0x7f04c36ddbd0>"
      ]
     },
     "metadata": {},
     "output_type": "display_data"
    }
   ],
   "source": [
    "### case4 - detected materials larger \n",
    "case4 = np.zeros((30,30), dtype=int)\n",
    "box1 = np.array([1]*7*7).reshape(7,7)\n",
    "box2 = np.array([2]*7*7).reshape(7,7)\n",
    "box3 = np.array([4]*7*7).reshape(7,7)\n",
    "#coordinates\n",
    "#x, y = np.random.randint(0,30-5, size=2)\n",
    "x = 1\n",
    "y = 10\n",
    "#Replace original image with white box\n",
    "case4[x:x+7, y-1:y+6] = box1\n",
    "case4[x+4:x+11, y+4:y+11] = box1\n",
    "case4[x+14:x+21, y+13:y+20] = box2\n",
    "case4[x+22:x+29, y-1:y+6] = box3\n",
    "plt.imshow(case4, cmap='Accent');\n",
    "print_function(ground_truth,case4)"
   ]
  },
  {
   "cell_type": "code",
   "execution_count": 146,
   "metadata": {},
   "outputs": [
    {
     "name": "stdout",
     "output_type": "stream",
     "text": [
      "('MIoU  0.08', 'Dice  0.205882352941', 'Recall  0.972972972973', 'Precision  0.902050113895', 'OCE  0.747', 'pixel_accuracy  0.88', 'volumetric_similarity  1.0378250591', 'AdjRand 0.14', 'Mut Info 0.07', 'VI  0.97', 'InterClassCor -0.01', 'Wasserstein 0.14', 'HausD  5.66')\n"
     ]
    },
    {
     "data": {
      "image/png": "[encoded data removed]",
      "text/plain": [
       "<matplotlib.figure.Figure at 0x7f04bfaee350>"
      ]
     },
     "metadata": {},
     "output_type": "display_data"
    }
   ],
   "source": [
    "### case5 - detected materials smaller\n",
    "case5 = np.zeros((30,30), dtype=int)\n",
    "box1 = np.array([1]*3*3).reshape(3,3)\n",
    "box2 = np.array([2]*3*3).reshape(3,3)\n",
    "box3 = np.array([4]*3*3).reshape(3,3)\n",
    "#coordinates\n",
    "#x, y = np.random.randint(0,30-5, size=2)\n",
    "x = 1\n",
    "y = 10\n",
    "#Replace original image with white box\n",
    "case5[x:x+3, y:y+3] = box1\n",
    "case5[x+3:x+6, y+3:y+6] = box1\n",
    "case5[x+12:x+15, y+12:y+15] = box2\n",
    "case5[x+21:x+24, y:y+3] = box3\n",
    "plt.imshow(case5, cmap='Accent');\n",
    "print_function(ground_truth,case5)"
   ]
  },
  {
   "cell_type": "code",
   "execution_count": 147,
   "metadata": {},
   "outputs": [
    {
     "name": "stdout",
     "output_type": "stream",
     "text": [
      "('MIoU  0.8', 'Dice  1.0', 'Recall  0.972222222222', 'Precision  1.0', 'OCE  0.302', 'pixel_accuracy  0.9722222222222222', 'volumetric_similarity  0.985915492958', 'AdjRand 1.0', 'Mut Info 0.92', 'VI  1.4', 'InterClassCor 0.64', 'Wasserstein 0.19', 'HausD  2.24')\n"
     ]
    },
    {
     "data": {
      "image/png": "[encoded data removed]",
      "text/plain": [
       "<matplotlib.figure.Figure at 0x7f04bfbe4f10>"
      ]
     },
     "metadata": {},
     "output_type": "display_data"
    }
   ],
   "source": [
    "### case6 - additional class oversegmentation\n",
    "case6 = np.zeros((30,30), dtype=int)\n",
    "box1 = np.array([1]*5*5).reshape(5,5)\n",
    "box2 = np.array([2]*5*5).reshape(5,5)\n",
    "box3 = np.array([4]*5*5).reshape(5,5)\n",
    "box4 = np.array([8]*5*5).reshape(5,5)\n",
    "#coordinates\n",
    "#x, y = np.random.randint(0,30-5, size=2)\n",
    "x = 1\n",
    "y = 10\n",
    "#Replace original image with white box\n",
    "case6[x:x+5, y:y+5] = box1\n",
    "case6[x+5:x+10, y+5:y+10] = box4\n",
    "case6[x+15:x+20, y+15:y+20] = box2\n",
    "case6[x+24:x+29, y:y+5] = box3\n",
    "plt.imshow(case6, cmap='Accent');\n",
    "print_function(ground_truth,case6)"
   ]
  },
  {
   "cell_type": "code",
   "execution_count": 148,
   "metadata": {},
   "outputs": [
    {
     "name": "stdout",
     "output_type": "stream",
     "text": [
      "('MIoU  0.8', 'Dice  0.727272727273', 'Recall  0.888888888889', 'Precision  1.0', 'OCE  0.434', 'pixel_accuracy  0.8888888888888888', 'volumetric_similarity  0.941176470588', 'AdjRand 0.67', 'Mut Info 0.59', 'VI  1.79', 'InterClassCor 0.21', 'Wasserstein 1.11', 'HausD  6.71')\n"
     ]
    },
    {
     "data": {
      "image/png": "[encoded data removed]",
      "text/plain": [
       "<matplotlib.figure.Figure at 0x7f04bfc98950>"
      ]
     },
     "metadata": {},
     "output_type": "display_data"
    }
   ],
   "source": [
    "### case7 - additional class oversegmentation\n",
    "case7 = np.zeros((30,30), dtype=int)\n",
    "box1 = np.array([1]*5*5).reshape(5,5)\n",
    "box2 = np.array([2]*5*5).reshape(5,5)\n",
    "box3 = np.array([4]*5*5).reshape(5,5)\n",
    "box4 = np.array([8]*5*5).reshape(5,5)\n",
    "box5 = np.array([11]*5*5).reshape(5,5)\n",
    "box6 = np.array([12]*5*5).reshape(5,5)\n",
    "#coordinates\n",
    "#x, y = np.random.randint(0,30-5, size=2)\n",
    "x = 1\n",
    "y = 10\n",
    "#Replace original image \n",
    "case7[x:x+5, y:y+5] = box1\n",
    "case7[x+5:x+10, y+5:y+10] = box4\n",
    "case7[x+15:x+20, y+15:y+20] = box2\n",
    "case7[x+24:x+29, y:y+5] = box3\n",
    "case7[3:8, 5:10] = box5\n",
    "case7[25:30, 0:5] = box5\n",
    "case7[15:20, 0:5] = box5\n",
    "\n",
    "plt.imshow(case7, cmap='Accent');\n",
    "print_function(ground_truth,case7)"
   ]
  },
  {
   "cell_type": "code",
   "execution_count": 150,
   "metadata": {},
   "outputs": [
    {
     "name": "stdout",
     "output_type": "stream",
     "text": [
      "('MIoU  0.41', 'Dice  0.489913544669', 'Recall  0.785310734463', 'Precision  0.978873239437', 'OCE  0.685', 'pixel_accuracy  0.7722222222222223', 'volumetric_similarity  0.890282131661', 'AdjRand 0.36', 'Mut Info 0.27', 'VI  2.1', 'InterClassCor 0.05', 'Wasserstein 1.69', 'HausD  4.47')\n"
     ]
    },
    {
     "data": {
      "image/png": "[encoded data removed]",
      "text/plain": [
       "<matplotlib.figure.Figure at 0x7f04bfb030d0>"
      ]
     },
     "metadata": {},
     "output_type": "display_data"
    }
   ],
   "source": [
    "### case8 - additional class oversegmentation + larger images\n",
    "case8 = np.zeros((30,30), dtype=int)\n",
    "box1 = np.array([1]*6*6).reshape(6,6)\n",
    "box2 = np.array([2]*6*6).reshape(6,6)\n",
    "box3 = np.array([4]*6*6).reshape(6,6)\n",
    "box4 = np.array([8]*6*6).reshape(6,6)\n",
    "box5 = np.array([11]*6*6).reshape(6,6)\n",
    "box6 = np.array([12]*6*6).reshape(6,6)\n",
    "#coordinates\n",
    "#x, y = np.random.randint(0,30-5, size=2)\n",
    "x = 1\n",
    "y = 10\n",
    "#Replace original image \n",
    "case8[x:x+6, y:y+6] = box1\n",
    "case8[x+5:x+11, y+5:y+11] = box4\n",
    "case8[x+15:x+21, y+14:y+22] = box2\n",
    "case8[x+20:x+26, y:y+6] = box3\n",
    "case8[3:9, 5:11] = box5\n",
    "case8[24:30, 0:6] = box5\n",
    "case8[15:21, 0:6] = box5\n",
    "\n",
    "plt.imshow(case8, cmap='Accent');\n",
    "print_function(ground_truth,case8)"
   ]
  },
  {
   "cell_type": "code",
   "execution_count": 104,
   "metadata": {},
   "outputs": [
    {
     "name": "stdout",
     "output_type": "stream",
     "text": [
      "('MIoU  0.64', 'Dice  1.0', 'Recall  1.0', 'Precision  1.0', 'OCE  0.002', 'pixel_accuracy  1.0', 'volumetric_similarity  1.0', 'AdjRand 1.0', 'Mut Info 1.0', 'VI  0.33', 'InterClassCor 1.0', 'Wasserstein 0.0', 'HausD  0.0')\n"
     ]
    },
    {
     "data": {
      "image/png": "[encoded data removed]",
      "text/plain": [
       "<matplotlib.figure.Figure at 0x7f04bf9ef110>"
      ]
     },
     "metadata": {},
     "output_type": "display_data"
    }
   ],
   "source": [
    "### generate ground truth - nested \n",
    "ground_truth = np.zeros((30,30), dtype=int)\n",
    "box1 = np.array([1]*5*5).reshape(5,5)\n",
    "box2 = np.array([2]*10*10).reshape(10,10)\n",
    "#coordinates\n",
    "#x, y = np.random.randint(0,30-5, size=2)\n",
    "x = 1\n",
    "y = 10\n",
    "#Replace original image with white box\n",
    "ground_truth[x:x+10, y:y+10] = box2\n",
    "ground_truth[x:x+5, y:y+5] = box1\n",
    "plt.imshow(ground_truth, cmap='Accent');\n",
    "print_function(ground_truth,ground_truth)"
   ]
  },
  {
   "cell_type": "code",
   "execution_count": null,
   "metadata": {},
   "outputs": [],
   "source": [
    "def variation_of_info (cl1, cl2, parts = FALSE, base = 2): \n",
    "    if (len(cl1) != len(cl2)) \n",
    "        stop(\"cl1 and cl2 must have same length\")\n",
    "    def ent(cl): {\n",
    "        n <- len(cl)\n",
    "        p <- table(cl)/n\n",
    "        -sum(p * log(p, base = base))\n",
    "    }\n",
    "    mi <- function(cl1, cl2) {\n",
    "        p12 <- table(cl1, cl2)/length(cl1)\n",
    "        p1p2 <- outer(table(cl1)/length(cl1), table(cl2)/length(cl2))\n",
    "        sum(p12[p12 > 0] * log(p12[p12 > 0]/p1p2[p12 > 0], base = base))\n",
    "    }\n",
    "    if (!parts) \n",
    "        return(ent(cl1) + ent(cl2) - 2 * mi(cl1, cl2))\n",
    "    ent1 <- ent(cl1)\n",
    "    ent2 <- ent(cl2)\n",
    "    mi12 <- mi(cl1, cl2)\n",
    "    c(vi = ent1 + ent2 - 2 * mi12)\n",
    "}"
   ]
  },
  {
   "cell_type": "code",
   "execution_count": 125,
   "metadata": {},
   "outputs": [],
   "source": [
    "## misc helpers load first\n",
    "def probs(x):\n",
    "    \"\"\"\n",
    "    Computes a discrete probability distribution from a list of observations.\n",
    "    :param x:\n",
    "     List or numpy array\n",
    "    :return:\n",
    "     List: The probability of each symbol appearing in the observations from x.\n",
    "    \"\"\"\n",
    "    n = len(x)\n",
    "    num_bins = np.bincount(x)\n",
    "    p = num_bins / float(n)\n",
    "    return p\n",
    "\n",
    "\n",
    "def cond_probs(obs):\n",
    "    \"\"\"\n",
    "    Computes a discrete conditional probability distribution from two lists of observations.\n",
    "    :param obs:\n",
    "     An ordered list of observations.\n",
    "    :return:\n",
    "     Dict: A discrete conditional probability distribution, represented as a dictionary.\n",
    "    \"\"\"\n",
    "    if type(obs) is str:\n",
    "        obs = list(obs)\n",
    "    obs = [str(ob) for ob in obs]\n",
    "    syms = set(obs)\n",
    "    counts = {}\n",
    "    probs_dict = {}\n",
    "    totals = {}\n",
    "    for sym in syms:\n",
    "        totals[sym] = obs.count(sym)\n",
    "        counts[sym] = {}\n",
    "        probs_dict[sym] = {}\n",
    "        for other_sym in syms:\n",
    "            counts[sym][other_sym] = 0\n",
    "            probs_dict[sym][other_sym] = 0\n",
    "    for i in range(len(obs) - 1):\n",
    "        if obs[i + 1] in counts[obs[i]]:\n",
    "            counts[obs[i]][obs[i + 1]] += 1\n",
    "            continue\n",
    "        counts[obs[i]][obs[i + 1]] = 1\n",
    "    for sym in syms:\n",
    "        div = 1 if totals[sym] is 0 else totals[sym]\n",
    "        for other_sym in syms:\n",
    "            probs_dict[sym][other_sym] = counts[sym][other_sym] / float(div)\n",
    "    return probs_dict\n",
    "\n",
    "\n",
    "def match_arrays(x, y):\n",
    "    \"\"\"\n",
    "    Will add 0's to wichever array is shorter, until it matches the length of the longer array.\n",
    "    No-op if they are the same length.\n",
    "    :param x:\n",
    "     Numpy array\n",
    "    :param y:\n",
    "     Numpy array\n",
    "    :return:\n",
    "     Numpy array, numpy array\n",
    "    \"\"\"\n",
    "    if len(x) > len(y):\n",
    "        for i in range(len(x) - len(y)):\n",
    "            y = np.append(y, 0)\n",
    "    elif len(y) > len(x):\n",
    "        for i in range(len(y) - len(x)):\n",
    "            x = np.append(x, 0)\n",
    "    return x, y\n",
    "\n",
    "\n",
    "def check_numpy_array(x):\n",
    "    \"\"\"\n",
    "    Will convert x to a numpy array if it is not one already.\n",
    "    :param x:\n",
    "     List or numpy array.\n",
    "    :return:\n",
    "     Numpy array, from x.\n",
    "    \"\"\"\n",
    "    return np.array(x)\n",
    "\n",
    "\n",
    "def num_unique(x):\n",
    "    \"\"\"\n",
    "    Returns the number of unique symbols in list/array\n",
    "    :param x:\n",
    "     List or numpy array.\n",
    "    :return:\n",
    "     Integer: the number of unique symbols in the list/array.\n",
    "    \"\"\"\n",
    "    return len(set(x))\n",
    "\n",
    "\n",
    "def bin_match(x, y):\n",
    "    \"\"\"\n",
    "    Checks that number of unique symbols in arrays is the same.\n",
    "    Examples:\n",
    "    bin_match([1,2], ['A', 'B'])\n",
    "    True\n",
    "    bin_match([5, 6, 7], [1, 1, 4, 4])\n",
    "    False\n",
    "    :param x:\n",
    "     List\n",
    "    :param y:\n",
    "     List\n",
    "    :return:\n",
    "     Bool\n",
    "    \"\"\"\n",
    "    return num_unique(x) == num_unique(y)\n",
    "\n",
    "\n",
    "def variable_match(x, y):\n",
    "    \"\"\"\n",
    "    Verifies that observation variables of X and Y are from the same set.\n",
    "    :param x:\n",
    "     List.\n",
    "    :param y:\n",
    "     List.\n",
    "    :return:\n",
    "     Bool\n",
    "    \"\"\"\n",
    "    return set(x) == set(y)"
   ]
  },
  {
   "cell_type": "code",
   "execution_count": 123,
   "metadata": {},
   "outputs": [
    {
     "ename": "AttributeError",
     "evalue": "'numpy.ndarray' object has no attribute 'count'",
     "output_type": "error",
     "traceback": [
      "\u001b[0;31m---------------------------------------------------------------------------\u001b[0m",
      "\u001b[0;31mAttributeError\u001b[0m                            Traceback (most recent call last)",
      "\u001b[0;32m<ipython-input-123-a76da9c67a15>\u001b[0m in \u001b[0;36m<module>\u001b[0;34m()\u001b[0m\n\u001b[0;32m----> 1\u001b[0;31m \u001b[0mground_truth\u001b[0m\u001b[0;34m.\u001b[0m\u001b[0mcount\u001b[0m\u001b[0;34m(\u001b[0m\u001b[0;34m)\u001b[0m\u001b[0;34m\u001b[0m\u001b[0m\n\u001b[0m",
      "\u001b[0;31mAttributeError\u001b[0m: 'numpy.ndarray' object has no attribute 'count'"
     ]
    }
   ],
   "source": [
    "ground_truth.count()"
   ]
  },
  {
   "cell_type": "code",
   "execution_count": null,
   "metadata": {},
   "outputs": [],
   "source": []
  }
 ],
 "metadata": {
  "kernelspec": {
   "display_name": "Python 2",
   "language": "python",
   "name": "python2"
  },
  "language_info": {
   "codemirror_mode": {
    "name": "ipython",
    "version": 2
   },
   "file_extension": ".py",
   "mimetype": "text/x-python",
   "name": "python",
   "nbconvert_exporter": "python",
   "pygments_lexer": "ipython2",
   "version": "2.7.14"
  }
 },
 "nbformat": 4,
 "nbformat_minor": 2
}
